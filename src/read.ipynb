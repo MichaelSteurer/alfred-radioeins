{
 "cells": [
  {
   "cell_type": "code",
   "execution_count": null,
   "metadata": {},
   "outputs": [],
   "source": [
    "from radioeins import RadioEins\n",
    "\n",
    "RadioEins().get_current_playlist()"
   ]
  }
 ],
 "metadata": {
  "interpreter": {
   "hash": "11fd8faf30de1695dd4b5d0eeb5c66a6fb455102993fe377d4fc44b742f583c9"
  },
  "kernelspec": {
   "display_name": "Python 3.8.2 64-bit ('adaptivelight': conda)",
   "language": "python",
   "name": "python3"
  },
  "language_info": {
   "codemirror_mode": {
    "name": "ipython",
    "version": 3
   },
   "file_extension": ".py",
   "mimetype": "text/x-python",
   "name": "python",
   "nbconvert_exporter": "python",
   "pygments_lexer": "ipython3",
   "version": "3.8.0"
  },
  "orig_nbformat": 4
 },
 "nbformat": 4,
 "nbformat_minor": 2
}
